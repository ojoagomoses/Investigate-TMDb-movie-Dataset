{
 "cells": [
  {
   "cell_type": "markdown",
   "metadata": {},
   "source": [
    "# Project: Investigate a Dataset - [TMDb movie]\n",
    "\n",
    "## Table of Contents\n",
    "<ul>\n",
    "<li><a href=\"#intro\">Introduction</a></li>\n",
    "<li><a href=\"#wrangling\">Data Wrangling</a></li>\n",
    "<li><a href=\"#eda\">Exploratory Data Analysis</a></li>\n",
    "<li><a href=\"#conclusions\">Conclusions</a></li>\n",
    "</ul>"
   ]
  },
  {
   "cell_type": "markdown",
   "metadata": {},
   "source": [
    "<a id='intro'></a>\n",
    "## Introduction\n",
    "\n",
    "### Dataset Description \n",
    "\n",
    "The TMDb movie data set we will be using for our investigation contains information about 10,000 movies collected from The Movie Database (TMDb), including user ratings and revenue, downloaded from kaggle https://www.kaggle.com/tmdb/tmdb-movie-metadata.\n",
    "\n",
    "\n",
    "### Question(s) for Analysis\n",
    "In this project, we will be investigating and answering question such as the followings\n",
    "- Which genres are most popular?\n",
    "- What are the highest grossing movies?\n",
    "- What are the most popular movies?\n",
    "- What Genres of movies require higher production budget?\n",
    "- What Genres of movies generates highest revenue? etc\n",
    "\n"
   ]
  },
  {
   "cell_type": "code",
   "execution_count": 2,
   "metadata": {},
   "outputs": [],
   "source": [
    "# import packages to be used\n",
    "import pandas as pd\n",
    "import numpy as np\n",
    "!pip install seaborn --upgrade --quiet\n",
    "import seaborn as sns\n",
    "!pip install --upgrade pandas==0.25.0 --quiet\n",
    "import warnings\n",
    "warnings.filterwarnings('ignore')\n",
    "import matplotlib\n",
    "import matplotlib.pyplot as plt\n",
    "%matplotlib inline\n",
    "\n",
    "sns.set_style('darkgrid')\n",
    "matplotlib.rcParams['font.size'] = 14\n",
    "matplotlib.rcParams['figure.figsize'] = (9, 5)\n",
    "matplotlib.rcParams['figure.facecolor'] = '#00000000'"
   ]
  },
  {
   "cell_type": "markdown",
   "metadata": {},
   "source": [
    "<a id='wrangling'></a>\n",
    "## Data Wrangling\n",
    "\n",
    "Raw Data has to be prepared and cleaned before it can be analyzed. In this section, we will do the following;\n",
    "- Load the dataset into a data frame using Pandas\n",
    "- Explore the number of rows & columns, ranges of values etc.\n",
    "- Handle missing, incorrect and duplicate data\n",
    "- Perform any additional steps (creating additional columns etc.)"
   ]
  },
  {
   "cell_type": "code",
   "execution_count": 3,
   "metadata": {
    "scrolled": false
   },
   "outputs": [
    {
     "data": {
      "text/html": [
       "<div>\n",
       "<style scoped>\n",
       "    .dataframe tbody tr th:only-of-type {\n",
       "        vertical-align: middle;\n",
       "    }\n",
       "\n",
       "    .dataframe tbody tr th {\n",
       "        vertical-align: top;\n",
       "    }\n",
       "\n",
       "    .dataframe thead th {\n",
       "        text-align: right;\n",
       "    }\n",
       "</style>\n",
       "<table border=\"1\" class=\"dataframe\">\n",
       "  <thead>\n",
       "    <tr style=\"text-align: right;\">\n",
       "      <th></th>\n",
       "      <th>id</th>\n",
       "      <th>imdb_id</th>\n",
       "      <th>popularity</th>\n",
       "      <th>budget</th>\n",
       "      <th>revenue</th>\n",
       "      <th>original_title</th>\n",
       "      <th>cast</th>\n",
       "      <th>homepage</th>\n",
       "      <th>director</th>\n",
       "      <th>tagline</th>\n",
       "      <th>...</th>\n",
       "      <th>overview</th>\n",
       "      <th>runtime</th>\n",
       "      <th>genres</th>\n",
       "      <th>production_companies</th>\n",
       "      <th>release_date</th>\n",
       "      <th>vote_count</th>\n",
       "      <th>vote_average</th>\n",
       "      <th>release_year</th>\n",
       "      <th>budget_adj</th>\n",
       "      <th>revenue_adj</th>\n",
       "    </tr>\n",
       "  </thead>\n",
       "  <tbody>\n",
       "    <tr>\n",
       "      <th>0</th>\n",
       "      <td>135397</td>\n",
       "      <td>tt0369610</td>\n",
       "      <td>32.985763</td>\n",
       "      <td>150000000</td>\n",
       "      <td>1513528810</td>\n",
       "      <td>Jurassic World</td>\n",
       "      <td>Chris Pratt|Bryce Dallas Howard|Irrfan Khan|Vi...</td>\n",
       "      <td>http://www.jurassicworld.com/</td>\n",
       "      <td>Colin Trevorrow</td>\n",
       "      <td>The park is open.</td>\n",
       "      <td>...</td>\n",
       "      <td>Twenty-two years after the events of Jurassic ...</td>\n",
       "      <td>124</td>\n",
       "      <td>Action|Adventure|Science Fiction|Thriller</td>\n",
       "      <td>Universal Studios|Amblin Entertainment|Legenda...</td>\n",
       "      <td>6/9/15</td>\n",
       "      <td>5562</td>\n",
       "      <td>6.5</td>\n",
       "      <td>2015</td>\n",
       "      <td>1.379999e+08</td>\n",
       "      <td>1.392446e+09</td>\n",
       "    </tr>\n",
       "    <tr>\n",
       "      <th>1</th>\n",
       "      <td>76341</td>\n",
       "      <td>tt1392190</td>\n",
       "      <td>28.419936</td>\n",
       "      <td>150000000</td>\n",
       "      <td>378436354</td>\n",
       "      <td>Mad Max: Fury Road</td>\n",
       "      <td>Tom Hardy|Charlize Theron|Hugh Keays-Byrne|Nic...</td>\n",
       "      <td>http://www.madmaxmovie.com/</td>\n",
       "      <td>George Miller</td>\n",
       "      <td>What a Lovely Day.</td>\n",
       "      <td>...</td>\n",
       "      <td>An apocalyptic story set in the furthest reach...</td>\n",
       "      <td>120</td>\n",
       "      <td>Action|Adventure|Science Fiction|Thriller</td>\n",
       "      <td>Village Roadshow Pictures|Kennedy Miller Produ...</td>\n",
       "      <td>5/13/15</td>\n",
       "      <td>6185</td>\n",
       "      <td>7.1</td>\n",
       "      <td>2015</td>\n",
       "      <td>1.379999e+08</td>\n",
       "      <td>3.481613e+08</td>\n",
       "    </tr>\n",
       "    <tr>\n",
       "      <th>2</th>\n",
       "      <td>262500</td>\n",
       "      <td>tt2908446</td>\n",
       "      <td>13.112507</td>\n",
       "      <td>110000000</td>\n",
       "      <td>295238201</td>\n",
       "      <td>Insurgent</td>\n",
       "      <td>Shailene Woodley|Theo James|Kate Winslet|Ansel...</td>\n",
       "      <td>http://www.thedivergentseries.movie/#insurgent</td>\n",
       "      <td>Robert Schwentke</td>\n",
       "      <td>One Choice Can Destroy You</td>\n",
       "      <td>...</td>\n",
       "      <td>Beatrice Prior must confront her inner demons ...</td>\n",
       "      <td>119</td>\n",
       "      <td>Adventure|Science Fiction|Thriller</td>\n",
       "      <td>Summit Entertainment|Mandeville Films|Red Wago...</td>\n",
       "      <td>3/18/15</td>\n",
       "      <td>2480</td>\n",
       "      <td>6.3</td>\n",
       "      <td>2015</td>\n",
       "      <td>1.012000e+08</td>\n",
       "      <td>2.716190e+08</td>\n",
       "    </tr>\n",
       "    <tr>\n",
       "      <th>3</th>\n",
       "      <td>140607</td>\n",
       "      <td>tt2488496</td>\n",
       "      <td>11.173104</td>\n",
       "      <td>200000000</td>\n",
       "      <td>2068178225</td>\n",
       "      <td>Star Wars: The Force Awakens</td>\n",
       "      <td>Harrison Ford|Mark Hamill|Carrie Fisher|Adam D...</td>\n",
       "      <td>http://www.starwars.com/films/star-wars-episod...</td>\n",
       "      <td>J.J. Abrams</td>\n",
       "      <td>Every generation has a story.</td>\n",
       "      <td>...</td>\n",
       "      <td>Thirty years after defeating the Galactic Empi...</td>\n",
       "      <td>136</td>\n",
       "      <td>Action|Adventure|Science Fiction|Fantasy</td>\n",
       "      <td>Lucasfilm|Truenorth Productions|Bad Robot</td>\n",
       "      <td>12/15/15</td>\n",
       "      <td>5292</td>\n",
       "      <td>7.5</td>\n",
       "      <td>2015</td>\n",
       "      <td>1.839999e+08</td>\n",
       "      <td>1.902723e+09</td>\n",
       "    </tr>\n",
       "    <tr>\n",
       "      <th>4</th>\n",
       "      <td>168259</td>\n",
       "      <td>tt2820852</td>\n",
       "      <td>9.335014</td>\n",
       "      <td>190000000</td>\n",
       "      <td>1506249360</td>\n",
       "      <td>Furious 7</td>\n",
       "      <td>Vin Diesel|Paul Walker|Jason Statham|Michelle ...</td>\n",
       "      <td>http://www.furious7.com/</td>\n",
       "      <td>James Wan</td>\n",
       "      <td>Vengeance Hits Home</td>\n",
       "      <td>...</td>\n",
       "      <td>Deckard Shaw seeks revenge against Dominic Tor...</td>\n",
       "      <td>137</td>\n",
       "      <td>Action|Crime|Thriller</td>\n",
       "      <td>Universal Pictures|Original Film|Media Rights ...</td>\n",
       "      <td>4/1/15</td>\n",
       "      <td>2947</td>\n",
       "      <td>7.3</td>\n",
       "      <td>2015</td>\n",
       "      <td>1.747999e+08</td>\n",
       "      <td>1.385749e+09</td>\n",
       "    </tr>\n",
       "  </tbody>\n",
       "</table>\n",
       "<p>5 rows × 21 columns</p>\n",
       "</div>"
      ],
      "text/plain": [
       "       id    imdb_id  popularity     budget     revenue  \\\n",
       "0  135397  tt0369610   32.985763  150000000  1513528810   \n",
       "1   76341  tt1392190   28.419936  150000000   378436354   \n",
       "2  262500  tt2908446   13.112507  110000000   295238201   \n",
       "3  140607  tt2488496   11.173104  200000000  2068178225   \n",
       "4  168259  tt2820852    9.335014  190000000  1506249360   \n",
       "\n",
       "                 original_title  \\\n",
       "0                Jurassic World   \n",
       "1            Mad Max: Fury Road   \n",
       "2                     Insurgent   \n",
       "3  Star Wars: The Force Awakens   \n",
       "4                     Furious 7   \n",
       "\n",
       "                                                cast  \\\n",
       "0  Chris Pratt|Bryce Dallas Howard|Irrfan Khan|Vi...   \n",
       "1  Tom Hardy|Charlize Theron|Hugh Keays-Byrne|Nic...   \n",
       "2  Shailene Woodley|Theo James|Kate Winslet|Ansel...   \n",
       "3  Harrison Ford|Mark Hamill|Carrie Fisher|Adam D...   \n",
       "4  Vin Diesel|Paul Walker|Jason Statham|Michelle ...   \n",
       "\n",
       "                                            homepage          director  \\\n",
       "0                      http://www.jurassicworld.com/   Colin Trevorrow   \n",
       "1                        http://www.madmaxmovie.com/     George Miller   \n",
       "2     http://www.thedivergentseries.movie/#insurgent  Robert Schwentke   \n",
       "3  http://www.starwars.com/films/star-wars-episod...       J.J. Abrams   \n",
       "4                           http://www.furious7.com/         James Wan   \n",
       "\n",
       "                         tagline  ...  \\\n",
       "0              The park is open.  ...   \n",
       "1             What a Lovely Day.  ...   \n",
       "2     One Choice Can Destroy You  ...   \n",
       "3  Every generation has a story.  ...   \n",
       "4            Vengeance Hits Home  ...   \n",
       "\n",
       "                                            overview runtime  \\\n",
       "0  Twenty-two years after the events of Jurassic ...     124   \n",
       "1  An apocalyptic story set in the furthest reach...     120   \n",
       "2  Beatrice Prior must confront her inner demons ...     119   \n",
       "3  Thirty years after defeating the Galactic Empi...     136   \n",
       "4  Deckard Shaw seeks revenge against Dominic Tor...     137   \n",
       "\n",
       "                                      genres  \\\n",
       "0  Action|Adventure|Science Fiction|Thriller   \n",
       "1  Action|Adventure|Science Fiction|Thriller   \n",
       "2         Adventure|Science Fiction|Thriller   \n",
       "3   Action|Adventure|Science Fiction|Fantasy   \n",
       "4                      Action|Crime|Thriller   \n",
       "\n",
       "                                production_companies release_date vote_count  \\\n",
       "0  Universal Studios|Amblin Entertainment|Legenda...       6/9/15       5562   \n",
       "1  Village Roadshow Pictures|Kennedy Miller Produ...      5/13/15       6185   \n",
       "2  Summit Entertainment|Mandeville Films|Red Wago...      3/18/15       2480   \n",
       "3          Lucasfilm|Truenorth Productions|Bad Robot     12/15/15       5292   \n",
       "4  Universal Pictures|Original Film|Media Rights ...       4/1/15       2947   \n",
       "\n",
       "   vote_average  release_year    budget_adj   revenue_adj  \n",
       "0           6.5          2015  1.379999e+08  1.392446e+09  \n",
       "1           7.1          2015  1.379999e+08  3.481613e+08  \n",
       "2           6.3          2015  1.012000e+08  2.716190e+08  \n",
       "3           7.5          2015  1.839999e+08  1.902723e+09  \n",
       "4           7.3          2015  1.747999e+08  1.385749e+09  \n",
       "\n",
       "[5 rows x 21 columns]"
      ]
     },
     "execution_count": 3,
     "metadata": {},
     "output_type": "execute_result"
    }
   ],
   "source": [
    "# Load dataset\n",
    "movies_raw= pd.read_csv('tmdb-movies.csv')\n",
    "movies_raw.head()"
   ]
  },
  {
   "cell_type": "code",
   "execution_count": 4,
   "metadata": {
    "scrolled": true
   },
   "outputs": [
    {
     "data": {
      "text/plain": [
       "(10866, 21)"
      ]
     },
     "execution_count": 4,
     "metadata": {},
     "output_type": "execute_result"
    }
   ],
   "source": [
    "#let us check the shape of our datasets\n",
    "movies_raw.shape"
   ]
  },
  {
   "cell_type": "code",
   "execution_count": 5,
   "metadata": {},
   "outputs": [
    {
     "data": {
      "text/plain": [
       "id                        int64\n",
       "imdb_id                  object\n",
       "popularity              float64\n",
       "budget                    int64\n",
       "revenue                   int64\n",
       "original_title           object\n",
       "cast                     object\n",
       "homepage                 object\n",
       "director                 object\n",
       "tagline                  object\n",
       "keywords                 object\n",
       "overview                 object\n",
       "runtime                   int64\n",
       "genres                   object\n",
       "production_companies     object\n",
       "release_date             object\n",
       "vote_count                int64\n",
       "vote_average            float64\n",
       "release_year              int64\n",
       "budget_adj              float64\n",
       "revenue_adj             float64\n",
       "dtype: object"
      ]
     },
     "execution_count": 5,
     "metadata": {},
     "output_type": "execute_result"
    }
   ],
   "source": [
    "#Check data type for the columns\n",
    "movies_raw.dtypes"
   ]
  },
  {
   "cell_type": "markdown",
   "metadata": {},
   "source": [
    "Our datasets is made of up 10866 rows and 21 columns.\n",
    "\n",
    "Let's view the list of columns in the data frame.\n"
   ]
  },
  {
   "cell_type": "code",
   "execution_count": 6,
   "metadata": {},
   "outputs": [
    {
     "data": {
      "text/plain": [
       "Index(['id', 'imdb_id', 'popularity', 'budget', 'revenue', 'original_title',\n",
       "       'cast', 'homepage', 'director', 'tagline', 'keywords', 'overview',\n",
       "       'runtime', 'genres', 'production_companies', 'release_date',\n",
       "       'vote_count', 'vote_average', 'release_year', 'budget_adj',\n",
       "       'revenue_adj'],\n",
       "      dtype='object')"
      ]
     },
     "execution_count": 6,
     "metadata": {},
     "output_type": "execute_result"
    }
   ],
   "source": [
    "movies_raw.columns"
   ]
  },
  {
   "cell_type": "markdown",
   "metadata": {},
   "source": [
    "\n",
    "#### Description of Columns\n",
    "\n",
    "    id: Unique id.\n",
    "    imdb_id: imdb id for each movie on TMDB.\n",
    "    popularity: Metric used to measure the popularity of the movie.\n",
    "    budget: Total budget of the moviein USD.\n",
    "    revenue: Total revenue of the movie in USD.\n",
    "    original_title: Original title of the movie.\n",
    "    cast: Names of the cast of the movie separated by \"|\".\n",
    "    homepage: The website of the movie.\n",
    "    director:name(s) of the director(s) of the movie (separated by \"|\" if there are more than one director).\n",
    "    tagline: Catchphrase describing the movie.\n",
    "    keywords: Keywords related to the movie.\n",
    "    overview: Summary of the plot of the movie.\n",
    "    runtime: Total runtime of the movie in minutes.\n",
    "    genres: Genres of the movie separated by \"|\".\n",
    "    production_companies:Production company of the movie.\n",
    "    release_date: Release date of the movie.\n",
    "    vote_count: Number of voters of te movie.\n",
    "    vote_average: Average user rating of the movie\n",
    "    release_year: Release year of the movie.\n",
    "    budget_adj: Total budget of the moviein USD in terms of 2010 dollars, accounting for inflation over time.\n",
    "    revenue_adj: Total budget of the movie in USD in terms of 2010 dollars, accounting for inflation over time.\n",
    "\n"
   ]
  },
  {
   "cell_type": "markdown",
   "metadata": {},
   "source": [
    "Not all the columns are revelant to the questions we seek to answer. We will proceed select a subset of columns with the relevant data for our analysis."
   ]
  },
  {
   "cell_type": "code",
   "execution_count": 7,
   "metadata": {},
   "outputs": [],
   "source": [
    "#Extract revelant columns\n",
    "needed_cols= ['popularity',  \n",
    "              'original_title',\n",
    "              'cast', \n",
    "              'director',\n",
    "              'runtime', \n",
    "              'genres',\n",
    "              'vote_count', \n",
    "              'vote_average', \n",
    "              'release_year', \n",
    "              'budget_adj',\n",
    "              'revenue_adj' ]"
   ]
  },
  {
   "cell_type": "code",
   "execution_count": 8,
   "metadata": {},
   "outputs": [
    {
     "data": {
      "text/plain": [
       "11"
      ]
     },
     "execution_count": 8,
     "metadata": {},
     "output_type": "execute_result"
    }
   ],
   "source": [
    "len(needed_cols)"
   ]
  },
  {
   "cell_type": "markdown",
   "metadata": {},
   "source": [
    "It is important we extract a copy of the data from these columns into a new data frame movies_df. This is to enable us to continue to modify the data further without affecting the original data frame."
   ]
  },
  {
   "cell_type": "code",
   "execution_count": 9,
   "metadata": {},
   "outputs": [],
   "source": [
    "#Extract a copy of the data from these columns for further analysis\n",
    "movies_df = movies_raw[needed_cols].copy()"
   ]
  },
  {
   "cell_type": "code",
   "execution_count": 10,
   "metadata": {},
   "outputs": [
    {
     "data": {
      "text/html": [
       "<div>\n",
       "<style scoped>\n",
       "    .dataframe tbody tr th:only-of-type {\n",
       "        vertical-align: middle;\n",
       "    }\n",
       "\n",
       "    .dataframe tbody tr th {\n",
       "        vertical-align: top;\n",
       "    }\n",
       "\n",
       "    .dataframe thead th {\n",
       "        text-align: right;\n",
       "    }\n",
       "</style>\n",
       "<table border=\"1\" class=\"dataframe\">\n",
       "  <thead>\n",
       "    <tr style=\"text-align: right;\">\n",
       "      <th></th>\n",
       "      <th>popularity</th>\n",
       "      <th>original_title</th>\n",
       "      <th>cast</th>\n",
       "      <th>director</th>\n",
       "      <th>runtime</th>\n",
       "      <th>genres</th>\n",
       "      <th>vote_count</th>\n",
       "      <th>vote_average</th>\n",
       "      <th>release_year</th>\n",
       "      <th>budget_adj</th>\n",
       "      <th>revenue_adj</th>\n",
       "    </tr>\n",
       "  </thead>\n",
       "  <tbody>\n",
       "    <tr>\n",
       "      <th>0</th>\n",
       "      <td>32.985763</td>\n",
       "      <td>Jurassic World</td>\n",
       "      <td>Chris Pratt|Bryce Dallas Howard|Irrfan Khan|Vi...</td>\n",
       "      <td>Colin Trevorrow</td>\n",
       "      <td>124</td>\n",
       "      <td>Action|Adventure|Science Fiction|Thriller</td>\n",
       "      <td>5562</td>\n",
       "      <td>6.5</td>\n",
       "      <td>2015</td>\n",
       "      <td>1.379999e+08</td>\n",
       "      <td>1.392446e+09</td>\n",
       "    </tr>\n",
       "    <tr>\n",
       "      <th>1</th>\n",
       "      <td>28.419936</td>\n",
       "      <td>Mad Max: Fury Road</td>\n",
       "      <td>Tom Hardy|Charlize Theron|Hugh Keays-Byrne|Nic...</td>\n",
       "      <td>George Miller</td>\n",
       "      <td>120</td>\n",
       "      <td>Action|Adventure|Science Fiction|Thriller</td>\n",
       "      <td>6185</td>\n",
       "      <td>7.1</td>\n",
       "      <td>2015</td>\n",
       "      <td>1.379999e+08</td>\n",
       "      <td>3.481613e+08</td>\n",
       "    </tr>\n",
       "    <tr>\n",
       "      <th>2</th>\n",
       "      <td>13.112507</td>\n",
       "      <td>Insurgent</td>\n",
       "      <td>Shailene Woodley|Theo James|Kate Winslet|Ansel...</td>\n",
       "      <td>Robert Schwentke</td>\n",
       "      <td>119</td>\n",
       "      <td>Adventure|Science Fiction|Thriller</td>\n",
       "      <td>2480</td>\n",
       "      <td>6.3</td>\n",
       "      <td>2015</td>\n",
       "      <td>1.012000e+08</td>\n",
       "      <td>2.716190e+08</td>\n",
       "    </tr>\n",
       "    <tr>\n",
       "      <th>3</th>\n",
       "      <td>11.173104</td>\n",
       "      <td>Star Wars: The Force Awakens</td>\n",
       "      <td>Harrison Ford|Mark Hamill|Carrie Fisher|Adam D...</td>\n",
       "      <td>J.J. Abrams</td>\n",
       "      <td>136</td>\n",
       "      <td>Action|Adventure|Science Fiction|Fantasy</td>\n",
       "      <td>5292</td>\n",
       "      <td>7.5</td>\n",
       "      <td>2015</td>\n",
       "      <td>1.839999e+08</td>\n",
       "      <td>1.902723e+09</td>\n",
       "    </tr>\n",
       "    <tr>\n",
       "      <th>4</th>\n",
       "      <td>9.335014</td>\n",
       "      <td>Furious 7</td>\n",
       "      <td>Vin Diesel|Paul Walker|Jason Statham|Michelle ...</td>\n",
       "      <td>James Wan</td>\n",
       "      <td>137</td>\n",
       "      <td>Action|Crime|Thriller</td>\n",
       "      <td>2947</td>\n",
       "      <td>7.3</td>\n",
       "      <td>2015</td>\n",
       "      <td>1.747999e+08</td>\n",
       "      <td>1.385749e+09</td>\n",
       "    </tr>\n",
       "  </tbody>\n",
       "</table>\n",
       "</div>"
      ],
      "text/plain": [
       "   popularity                original_title  \\\n",
       "0   32.985763                Jurassic World   \n",
       "1   28.419936            Mad Max: Fury Road   \n",
       "2   13.112507                     Insurgent   \n",
       "3   11.173104  Star Wars: The Force Awakens   \n",
       "4    9.335014                     Furious 7   \n",
       "\n",
       "                                                cast          director  \\\n",
       "0  Chris Pratt|Bryce Dallas Howard|Irrfan Khan|Vi...   Colin Trevorrow   \n",
       "1  Tom Hardy|Charlize Theron|Hugh Keays-Byrne|Nic...     George Miller   \n",
       "2  Shailene Woodley|Theo James|Kate Winslet|Ansel...  Robert Schwentke   \n",
       "3  Harrison Ford|Mark Hamill|Carrie Fisher|Adam D...       J.J. Abrams   \n",
       "4  Vin Diesel|Paul Walker|Jason Statham|Michelle ...         James Wan   \n",
       "\n",
       "   runtime                                     genres  vote_count  \\\n",
       "0      124  Action|Adventure|Science Fiction|Thriller        5562   \n",
       "1      120  Action|Adventure|Science Fiction|Thriller        6185   \n",
       "2      119         Adventure|Science Fiction|Thriller        2480   \n",
       "3      136   Action|Adventure|Science Fiction|Fantasy        5292   \n",
       "4      137                      Action|Crime|Thriller        2947   \n",
       "\n",
       "   vote_average  release_year    budget_adj   revenue_adj  \n",
       "0           6.5          2015  1.379999e+08  1.392446e+09  \n",
       "1           7.1          2015  1.379999e+08  3.481613e+08  \n",
       "2           6.3          2015  1.012000e+08  2.716190e+08  \n",
       "3           7.5          2015  1.839999e+08  1.902723e+09  \n",
       "4           7.3          2015  1.747999e+08  1.385749e+09  "
      ]
     },
     "execution_count": 10,
     "metadata": {},
     "output_type": "execute_result"
    }
   ],
   "source": [
    "#Check our new dataframe\n",
    "movies_df.head()"
   ]
  },
  {
   "cell_type": "code",
   "execution_count": 11,
   "metadata": {},
   "outputs": [
    {
     "data": {
      "text/plain": [
       "(10866, 11)"
      ]
     },
     "execution_count": 11,
     "metadata": {},
     "output_type": "execute_result"
    }
   ],
   "source": [
    "movies_df.shape"
   ]
  },
  {
   "cell_type": "code",
   "execution_count": 12,
   "metadata": {},
   "outputs": [
    {
     "name": "stdout",
     "output_type": "stream",
     "text": [
      "<class 'pandas.core.frame.DataFrame'>\n",
      "RangeIndex: 10866 entries, 0 to 10865\n",
      "Data columns (total 11 columns):\n",
      "popularity        10866 non-null float64\n",
      "original_title    10866 non-null object\n",
      "cast              10790 non-null object\n",
      "director          10822 non-null object\n",
      "runtime           10866 non-null int64\n",
      "genres            10843 non-null object\n",
      "vote_count        10866 non-null int64\n",
      "vote_average      10866 non-null float64\n",
      "release_year      10866 non-null int64\n",
      "budget_adj        10866 non-null float64\n",
      "revenue_adj       10866 non-null float64\n",
      "dtypes: float64(4), int64(3), object(4)\n",
      "memory usage: 933.9+ KB\n"
     ]
    }
   ],
   "source": [
    "movies_df.info()"
   ]
  },
  {
   "cell_type": "markdown",
   "metadata": {},
   "source": [
    "Out of the 11 columns, 7 were detected as numeric columns having the data type float and int. 4 of the columns were detected as string having the data type object.\n",
    "\n",
    "All the columns seems to have the appropriate data type, therefore there will be no need for any data type conversion.\n",
    "\n",
    "It appears that every column contains some empty values since the Non-Null count for every column is lower than the total number of rows (64461)\n",
    "\n",
    "3 of the columns `cast`, `director` and `genre` contains some empty values since the Non-Null count for them is lower than the total number of rows (10866).\n",
    "\n",
    "We will need to handle those missing values before proceeding into our analysis.\n"
   ]
  },
  {
   "cell_type": "markdown",
   "metadata": {},
   "source": [
    "\n",
    "### Data Cleaning\n",
    " "
   ]
  },
  {
   "cell_type": "code",
   "execution_count": 13,
   "metadata": {},
   "outputs": [
    {
     "data": {
      "text/plain": [
       "1"
      ]
     },
     "execution_count": 13,
     "metadata": {},
     "output_type": "execute_result"
    }
   ],
   "source": [
    "#Check for duplicates\n",
    "movies_df.duplicated().sum()"
   ]
  },
  {
   "cell_type": "code",
   "execution_count": 14,
   "metadata": {},
   "outputs": [],
   "source": [
    "#handle duplicates\n",
    "movies_df.drop_duplicates(subset=None, keep='first', inplace=True)"
   ]
  },
  {
   "cell_type": "code",
   "execution_count": 15,
   "metadata": {},
   "outputs": [
    {
     "data": {
      "text/plain": [
       "popularity         0\n",
       "original_title     0\n",
       "cast              76\n",
       "director          44\n",
       "runtime            0\n",
       "genres            23\n",
       "vote_count         0\n",
       "vote_average       0\n",
       "release_year       0\n",
       "budget_adj         0\n",
       "revenue_adj        0\n",
       "dtype: int64"
      ]
     },
     "execution_count": 15,
     "metadata": {},
     "output_type": "execute_result"
    }
   ],
   "source": [
    "#Check for missing values\n",
    "movies_df.isna().sum()"
   ]
  },
  {
   "cell_type": "markdown",
   "metadata": {},
   "source": [
    "The `cast`, `director`, and `genres` columns have rows with missing values. we will take a sample look at them and decide what to do with them afterwards"
   ]
  },
  {
   "cell_type": "code",
   "execution_count": 16,
   "metadata": {},
   "outputs": [
    {
     "data": {
      "text/html": [
       "<div>\n",
       "<style scoped>\n",
       "    .dataframe tbody tr th:only-of-type {\n",
       "        vertical-align: middle;\n",
       "    }\n",
       "\n",
       "    .dataframe tbody tr th {\n",
       "        vertical-align: top;\n",
       "    }\n",
       "\n",
       "    .dataframe thead th {\n",
       "        text-align: right;\n",
       "    }\n",
       "</style>\n",
       "<table border=\"1\" class=\"dataframe\">\n",
       "  <thead>\n",
       "    <tr style=\"text-align: right;\">\n",
       "      <th></th>\n",
       "      <th>popularity</th>\n",
       "      <th>original_title</th>\n",
       "      <th>cast</th>\n",
       "      <th>director</th>\n",
       "      <th>runtime</th>\n",
       "      <th>genres</th>\n",
       "      <th>vote_count</th>\n",
       "      <th>vote_average</th>\n",
       "      <th>release_year</th>\n",
       "      <th>budget_adj</th>\n",
       "      <th>revenue_adj</th>\n",
       "    </tr>\n",
       "  </thead>\n",
       "  <tbody>\n",
       "    <tr>\n",
       "      <th>2221</th>\n",
       "      <td>0.281852</td>\n",
       "      <td>Scott Pilgrim vs. the Animation</td>\n",
       "      <td>Michael Cera|Alison Pill|Georgette Perna|Mae W...</td>\n",
       "      <td>NaN</td>\n",
       "      <td>4</td>\n",
       "      <td>TV Movie|Animation|Adventure</td>\n",
       "      <td>19</td>\n",
       "      <td>7.7</td>\n",
       "      <td>2010</td>\n",
       "      <td>0.0</td>\n",
       "      <td>0.0</td>\n",
       "    </tr>\n",
       "    <tr>\n",
       "      <th>3910</th>\n",
       "      <td>0.002006</td>\n",
       "      <td>Steve Jobs: One Last Thing</td>\n",
       "      <td>NaN</td>\n",
       "      <td>NaN</td>\n",
       "      <td>60</td>\n",
       "      <td>Documentary</td>\n",
       "      <td>11</td>\n",
       "      <td>6.6</td>\n",
       "      <td>2011</td>\n",
       "      <td>0.0</td>\n",
       "      <td>0.0</td>\n",
       "    </tr>\n",
       "    <tr>\n",
       "      <th>5972</th>\n",
       "      <td>0.165605</td>\n",
       "      <td>Top Gear: The Perfect Road Trip</td>\n",
       "      <td>Jeremy Clarkson|Richard Hammond</td>\n",
       "      <td>NaN</td>\n",
       "      <td>84</td>\n",
       "      <td>TV Movie|Action|Adventure|Documentary</td>\n",
       "      <td>35</td>\n",
       "      <td>7.6</td>\n",
       "      <td>2013</td>\n",
       "      <td>0.0</td>\n",
       "      <td>0.0</td>\n",
       "    </tr>\n",
       "    <tr>\n",
       "      <th>6033</th>\n",
       "      <td>0.048587</td>\n",
       "      <td>Russell Brand: Messiah Complex</td>\n",
       "      <td>Russell Brand</td>\n",
       "      <td>NaN</td>\n",
       "      <td>99</td>\n",
       "      <td>Comedy</td>\n",
       "      <td>12</td>\n",
       "      <td>6.8</td>\n",
       "      <td>2013</td>\n",
       "      <td>0.0</td>\n",
       "      <td>0.0</td>\n",
       "    </tr>\n",
       "    <tr>\n",
       "      <th>2401</th>\n",
       "      <td>0.067753</td>\n",
       "      <td>Opeth: In Live Concert At The Royal Albert Hall</td>\n",
       "      <td>Mikael Ã…kerfeldt|Martin \"Axe\" Axenrot|Martin ...</td>\n",
       "      <td>NaN</td>\n",
       "      <td>163</td>\n",
       "      <td>Music</td>\n",
       "      <td>10</td>\n",
       "      <td>8.6</td>\n",
       "      <td>2010</td>\n",
       "      <td>0.0</td>\n",
       "      <td>0.0</td>\n",
       "    </tr>\n",
       "  </tbody>\n",
       "</table>\n",
       "</div>"
      ],
      "text/plain": [
       "      popularity                                   original_title  \\\n",
       "2221    0.281852                  Scott Pilgrim vs. the Animation   \n",
       "3910    0.002006                       Steve Jobs: One Last Thing   \n",
       "5972    0.165605                  Top Gear: The Perfect Road Trip   \n",
       "6033    0.048587                   Russell Brand: Messiah Complex   \n",
       "2401    0.067753  Opeth: In Live Concert At The Royal Albert Hall   \n",
       "\n",
       "                                                   cast director  runtime  \\\n",
       "2221  Michael Cera|Alison Pill|Georgette Perna|Mae W...      NaN        4   \n",
       "3910                                                NaN      NaN       60   \n",
       "5972                    Jeremy Clarkson|Richard Hammond      NaN       84   \n",
       "6033                                      Russell Brand      NaN       99   \n",
       "2401  Mikael Ã…kerfeldt|Martin \"Axe\" Axenrot|Martin ...      NaN      163   \n",
       "\n",
       "                                     genres  vote_count  vote_average  \\\n",
       "2221           TV Movie|Animation|Adventure          19           7.7   \n",
       "3910                            Documentary          11           6.6   \n",
       "5972  TV Movie|Action|Adventure|Documentary          35           7.6   \n",
       "6033                                 Comedy          12           6.8   \n",
       "2401                                  Music          10           8.6   \n",
       "\n",
       "      release_year  budget_adj  revenue_adj  \n",
       "2221          2010         0.0          0.0  \n",
       "3910          2011         0.0          0.0  \n",
       "5972          2013         0.0          0.0  \n",
       "6033          2013         0.0          0.0  \n",
       "2401          2010         0.0          0.0  "
      ]
     },
     "execution_count": 16,
     "metadata": {},
     "output_type": "execute_result"
    }
   ],
   "source": [
    "#Check missing values in the director column\n",
    "movies_df[movies_df.director.isna()].sample(5)"
   ]
  },
  {
   "cell_type": "markdown",
   "metadata": {},
   "source": [
    "Most of the rows with missing values in the `director` column have no enteries for the `budget_adj` and `revenue_adj`. We will need to check if that is the same for the rows with missing values for the cast and genres columns."
   ]
  },
  {
   "cell_type": "code",
   "execution_count": 17,
   "metadata": {},
   "outputs": [
    {
     "data": {
      "text/html": [
       "<div>\n",
       "<style scoped>\n",
       "    .dataframe tbody tr th:only-of-type {\n",
       "        vertical-align: middle;\n",
       "    }\n",
       "\n",
       "    .dataframe tbody tr th {\n",
       "        vertical-align: top;\n",
       "    }\n",
       "\n",
       "    .dataframe thead th {\n",
       "        text-align: right;\n",
       "    }\n",
       "</style>\n",
       "<table border=\"1\" class=\"dataframe\">\n",
       "  <thead>\n",
       "    <tr style=\"text-align: right;\">\n",
       "      <th></th>\n",
       "      <th>popularity</th>\n",
       "      <th>original_title</th>\n",
       "      <th>cast</th>\n",
       "      <th>director</th>\n",
       "      <th>runtime</th>\n",
       "      <th>genres</th>\n",
       "      <th>vote_count</th>\n",
       "      <th>vote_average</th>\n",
       "      <th>release_year</th>\n",
       "      <th>budget_adj</th>\n",
       "      <th>revenue_adj</th>\n",
       "    </tr>\n",
       "  </thead>\n",
       "  <tbody>\n",
       "    <tr>\n",
       "      <th>587</th>\n",
       "      <td>0.062536</td>\n",
       "      <td>The Hunting Ground</td>\n",
       "      <td>NaN</td>\n",
       "      <td>Kirby Dick</td>\n",
       "      <td>103</td>\n",
       "      <td>Documentary</td>\n",
       "      <td>39</td>\n",
       "      <td>7.8</td>\n",
       "      <td>2015</td>\n",
       "      <td>0.000000e+00</td>\n",
       "      <td>0.000000e+00</td>\n",
       "    </tr>\n",
       "    <tr>\n",
       "      <th>4889</th>\n",
       "      <td>0.075043</td>\n",
       "      <td>2016: Obama's America</td>\n",
       "      <td>NaN</td>\n",
       "      <td>Dinesh D'Souza|John Sullivan</td>\n",
       "      <td>87</td>\n",
       "      <td>Documentary</td>\n",
       "      <td>11</td>\n",
       "      <td>4.7</td>\n",
       "      <td>2012</td>\n",
       "      <td>2.374361e+06</td>\n",
       "      <td>3.172146e+07</td>\n",
       "    </tr>\n",
       "    <tr>\n",
       "      <th>3339</th>\n",
       "      <td>0.067761</td>\n",
       "      <td>Zeitgeist: Addendum</td>\n",
       "      <td>NaN</td>\n",
       "      <td>Peter Joseph</td>\n",
       "      <td>123</td>\n",
       "      <td>Documentary|History|War</td>\n",
       "      <td>44</td>\n",
       "      <td>7.0</td>\n",
       "      <td>2008</td>\n",
       "      <td>0.000000e+00</td>\n",
       "      <td>0.000000e+00</td>\n",
       "    </tr>\n",
       "    <tr>\n",
       "      <th>8292</th>\n",
       "      <td>0.521669</td>\n",
       "      <td>Baraka</td>\n",
       "      <td>NaN</td>\n",
       "      <td>Ron Fricke</td>\n",
       "      <td>96</td>\n",
       "      <td>Documentary</td>\n",
       "      <td>89</td>\n",
       "      <td>7.6</td>\n",
       "      <td>1992</td>\n",
       "      <td>6.216097e+06</td>\n",
       "      <td>0.000000e+00</td>\n",
       "    </tr>\n",
       "    <tr>\n",
       "      <th>4883</th>\n",
       "      <td>0.078472</td>\n",
       "      <td>Fresh Guacamole</td>\n",
       "      <td>NaN</td>\n",
       "      <td>PES</td>\n",
       "      <td>2</td>\n",
       "      <td>Animation</td>\n",
       "      <td>29</td>\n",
       "      <td>7.9</td>\n",
       "      <td>2012</td>\n",
       "      <td>0.000000e+00</td>\n",
       "      <td>0.000000e+00</td>\n",
       "    </tr>\n",
       "  </tbody>\n",
       "</table>\n",
       "</div>"
      ],
      "text/plain": [
       "      popularity         original_title cast                      director  \\\n",
       "587     0.062536     The Hunting Ground  NaN                    Kirby Dick   \n",
       "4889    0.075043  2016: Obama's America  NaN  Dinesh D'Souza|John Sullivan   \n",
       "3339    0.067761    Zeitgeist: Addendum  NaN                  Peter Joseph   \n",
       "8292    0.521669                 Baraka  NaN                    Ron Fricke   \n",
       "4883    0.078472        Fresh Guacamole  NaN                           PES   \n",
       "\n",
       "      runtime                   genres  vote_count  vote_average  \\\n",
       "587       103              Documentary          39           7.8   \n",
       "4889       87              Documentary          11           4.7   \n",
       "3339      123  Documentary|History|War          44           7.0   \n",
       "8292       96              Documentary          89           7.6   \n",
       "4883        2                Animation          29           7.9   \n",
       "\n",
       "      release_year    budget_adj   revenue_adj  \n",
       "587           2015  0.000000e+00  0.000000e+00  \n",
       "4889          2012  2.374361e+06  3.172146e+07  \n",
       "3339          2008  0.000000e+00  0.000000e+00  \n",
       "8292          1992  6.216097e+06  0.000000e+00  \n",
       "4883          2012  0.000000e+00  0.000000e+00  "
      ]
     },
     "execution_count": 17,
     "metadata": {},
     "output_type": "execute_result"
    }
   ],
   "source": [
    "#Check missing values in the cast column\n",
    "movies_df[movies_df.cast.isna()].sample(5)"
   ]
  },
  {
   "cell_type": "code",
   "execution_count": 18,
   "metadata": {},
   "outputs": [
    {
     "data": {
      "text/html": [
       "<div>\n",
       "<style scoped>\n",
       "    .dataframe tbody tr th:only-of-type {\n",
       "        vertical-align: middle;\n",
       "    }\n",
       "\n",
       "    .dataframe tbody tr th {\n",
       "        vertical-align: top;\n",
       "    }\n",
       "\n",
       "    .dataframe thead th {\n",
       "        text-align: right;\n",
       "    }\n",
       "</style>\n",
       "<table border=\"1\" class=\"dataframe\">\n",
       "  <thead>\n",
       "    <tr style=\"text-align: right;\">\n",
       "      <th></th>\n",
       "      <th>popularity</th>\n",
       "      <th>original_title</th>\n",
       "      <th>cast</th>\n",
       "      <th>director</th>\n",
       "      <th>runtime</th>\n",
       "      <th>genres</th>\n",
       "      <th>vote_count</th>\n",
       "      <th>vote_average</th>\n",
       "      <th>release_year</th>\n",
       "      <th>budget_adj</th>\n",
       "      <th>revenue_adj</th>\n",
       "    </tr>\n",
       "  </thead>\n",
       "  <tbody>\n",
       "    <tr>\n",
       "      <th>620</th>\n",
       "      <td>0.129696</td>\n",
       "      <td>All Hallows' Eve 2</td>\n",
       "      <td>NaN</td>\n",
       "      <td>Antonio Padovan|Bryan Norton|Marc Roussel|Ryan...</td>\n",
       "      <td>90</td>\n",
       "      <td>NaN</td>\n",
       "      <td>13</td>\n",
       "      <td>5.0</td>\n",
       "      <td>2015</td>\n",
       "      <td>0.00000</td>\n",
       "      <td>0.0</td>\n",
       "    </tr>\n",
       "    <tr>\n",
       "      <th>2370</th>\n",
       "      <td>0.081892</td>\n",
       "      <td>Freshman Father</td>\n",
       "      <td>Britt Irvin|Merrilyn Gann|Barbara Tyson|Anthon...</td>\n",
       "      <td>Michael Scott</td>\n",
       "      <td>0</td>\n",
       "      <td>NaN</td>\n",
       "      <td>12</td>\n",
       "      <td>5.8</td>\n",
       "      <td>2010</td>\n",
       "      <td>0.00000</td>\n",
       "      <td>0.0</td>\n",
       "    </tr>\n",
       "    <tr>\n",
       "      <th>10659</th>\n",
       "      <td>0.344172</td>\n",
       "      <td>The Party at Kitty and Stud's</td>\n",
       "      <td>Sylvester Stallone|Henrietta Holm|Nicholas War...</td>\n",
       "      <td>Morton Lewis</td>\n",
       "      <td>71</td>\n",
       "      <td>NaN</td>\n",
       "      <td>10</td>\n",
       "      <td>3.0</td>\n",
       "      <td>1970</td>\n",
       "      <td>28081.84172</td>\n",
       "      <td>0.0</td>\n",
       "    </tr>\n",
       "    <tr>\n",
       "      <th>1712</th>\n",
       "      <td>0.302095</td>\n",
       "      <td>Prayers for Bobby</td>\n",
       "      <td>Ryan Kelley|Sigourney Weaver|Henry Czerny|Dan ...</td>\n",
       "      <td>Russell Mulcahy</td>\n",
       "      <td>88</td>\n",
       "      <td>NaN</td>\n",
       "      <td>57</td>\n",
       "      <td>7.4</td>\n",
       "      <td>2009</td>\n",
       "      <td>0.00000</td>\n",
       "      <td>0.0</td>\n",
       "    </tr>\n",
       "    <tr>\n",
       "      <th>4732</th>\n",
       "      <td>0.235911</td>\n",
       "      <td>The Scapegoat</td>\n",
       "      <td>Andrew Scott|Jodhi May|Eileen Atkins|Matthew R...</td>\n",
       "      <td>Charles Sturridge</td>\n",
       "      <td>100</td>\n",
       "      <td>NaN</td>\n",
       "      <td>12</td>\n",
       "      <td>6.2</td>\n",
       "      <td>2012</td>\n",
       "      <td>0.00000</td>\n",
       "      <td>0.0</td>\n",
       "    </tr>\n",
       "  </tbody>\n",
       "</table>\n",
       "</div>"
      ],
      "text/plain": [
       "       popularity                 original_title  \\\n",
       "620      0.129696             All Hallows' Eve 2   \n",
       "2370     0.081892                Freshman Father   \n",
       "10659    0.344172  The Party at Kitty and Stud's   \n",
       "1712     0.302095              Prayers for Bobby   \n",
       "4732     0.235911                  The Scapegoat   \n",
       "\n",
       "                                                    cast  \\\n",
       "620                                                  NaN   \n",
       "2370   Britt Irvin|Merrilyn Gann|Barbara Tyson|Anthon...   \n",
       "10659  Sylvester Stallone|Henrietta Holm|Nicholas War...   \n",
       "1712   Ryan Kelley|Sigourney Weaver|Henry Czerny|Dan ...   \n",
       "4732   Andrew Scott|Jodhi May|Eileen Atkins|Matthew R...   \n",
       "\n",
       "                                                director  runtime genres  \\\n",
       "620    Antonio Padovan|Bryan Norton|Marc Roussel|Ryan...       90    NaN   \n",
       "2370                                       Michael Scott        0    NaN   \n",
       "10659                                       Morton Lewis       71    NaN   \n",
       "1712                                     Russell Mulcahy       88    NaN   \n",
       "4732                                   Charles Sturridge      100    NaN   \n",
       "\n",
       "       vote_count  vote_average  release_year   budget_adj  revenue_adj  \n",
       "620            13           5.0          2015      0.00000          0.0  \n",
       "2370           12           5.8          2010      0.00000          0.0  \n",
       "10659          10           3.0          1970  28081.84172          0.0  \n",
       "1712           57           7.4          2009      0.00000          0.0  \n",
       "4732           12           6.2          2012      0.00000          0.0  "
      ]
     },
     "execution_count": 18,
     "metadata": {},
     "output_type": "execute_result"
    }
   ],
   "source": [
    "#check missing values in the genres column\n",
    "movies_df[movies_df.genres.isna()].sample(5)"
   ]
  },
  {
   "cell_type": "markdown",
   "metadata": {},
   "source": [
    "By taking a sample look at the missing values, we discovered that Most of the rows with missing values in the `cast`, `director` and `genres` have value of 0 in the `budget_adj` and `revenue_adj`, so they won't be neecessary for our analysis. we wil proceed to drop them."
   ]
  },
  {
   "cell_type": "code",
   "execution_count": 19,
   "metadata": {},
   "outputs": [],
   "source": [
    "#Drop rows with Missing values\n",
    "movies_df.dropna(inplace=True)"
   ]
  },
  {
   "cell_type": "code",
   "execution_count": 20,
   "metadata": {
    "scrolled": true
   },
   "outputs": [
    {
     "data": {
      "text/plain": [
       "popularity        0\n",
       "original_title    0\n",
       "cast              0\n",
       "director          0\n",
       "runtime           0\n",
       "genres            0\n",
       "vote_count        0\n",
       "vote_average      0\n",
       "release_year      0\n",
       "budget_adj        0\n",
       "revenue_adj       0\n",
       "dtype: int64"
      ]
     },
     "execution_count": 20,
     "metadata": {},
     "output_type": "execute_result"
    }
   ],
   "source": [
    "#check if the rows with missing values have been droped.\n",
    "movies_df.isna().sum()"
   ]
  },
  {
   "cell_type": "markdown",
   "metadata": {},
   "source": [
    "Also, Any row with a value less than 1 in the `budget_adj`, `revenue_adj`, and `runtime` columns is not relevant to our analysis, so they will be dropped."
   ]
  },
  {
   "cell_type": "code",
   "execution_count": 21,
   "metadata": {},
   "outputs": [],
   "source": [
    "#Drop rows with values less than 1 in the budget_adj, revenue_adj and runtime columns\n",
    "movies_df.drop(movies_df[movies_df['budget_adj'] < 1].index, inplace = True)\n",
    "movies_df.drop(movies_df[movies_df['revenue_adj'] < 1].index, inplace = True)\n",
    "movies_df.drop(movies_df[movies_df['runtime'] < 1].index, inplace = True)"
   ]
  },
  {
   "cell_type": "markdown",
   "metadata": {},
   "source": [
    "#### Creating additional columns\n",
    "\n",
    "Additional columns need to be created to help our analysis. they include;\n",
    "\n",
    "    Profit\n",
    "    lead_actor\n",
    "    main_genre\n",
    "    lead_director\n",
    "\n"
   ]
  },
  {
   "cell_type": "code",
   "execution_count": 22,
   "metadata": {},
   "outputs": [],
   "source": [
    "#Creating additional columns\n",
    "movies_df['profit']=movies_df.revenue_adj-movies_df.budget_adj\n",
    "movies_df['lead_actor']=movies_df.cast.str.split(pat='|',expand=True)[0]\n",
    "movies_df['main_genre']=movies_df.genres.str.split(pat='|',expand=True)[0]\n",
    "movies_df['lead_director']=movies_df.director.str.split(pat='|',expand=True)[0]"
   ]
  },
  {
   "cell_type": "markdown",
   "metadata": {},
   "source": [
    "We will not be needing the `cast`, `genres`, `director` columns anymore so we will drop them also."
   ]
  },
  {
   "cell_type": "code",
   "execution_count": 23,
   "metadata": {},
   "outputs": [],
   "source": [
    "#drop cast, genres and director columns\n",
    "movies_df.drop(['cast','genres','director'],axis=1,inplace=True)"
   ]
  },
  {
   "cell_type": "code",
   "execution_count": 24,
   "metadata": {
    "scrolled": true
   },
   "outputs": [
    {
     "data": {
      "text/html": [
       "<div>\n",
       "<style scoped>\n",
       "    .dataframe tbody tr th:only-of-type {\n",
       "        vertical-align: middle;\n",
       "    }\n",
       "\n",
       "    .dataframe tbody tr th {\n",
       "        vertical-align: top;\n",
       "    }\n",
       "\n",
       "    .dataframe thead th {\n",
       "        text-align: right;\n",
       "    }\n",
       "</style>\n",
       "<table border=\"1\" class=\"dataframe\">\n",
       "  <thead>\n",
       "    <tr style=\"text-align: right;\">\n",
       "      <th></th>\n",
       "      <th>popularity</th>\n",
       "      <th>original_title</th>\n",
       "      <th>runtime</th>\n",
       "      <th>vote_count</th>\n",
       "      <th>vote_average</th>\n",
       "      <th>release_year</th>\n",
       "      <th>budget_adj</th>\n",
       "      <th>revenue_adj</th>\n",
       "      <th>profit</th>\n",
       "      <th>lead_actor</th>\n",
       "      <th>main_genre</th>\n",
       "      <th>lead_director</th>\n",
       "    </tr>\n",
       "  </thead>\n",
       "  <tbody>\n",
       "    <tr>\n",
       "      <th>0</th>\n",
       "      <td>32.985763</td>\n",
       "      <td>Jurassic World</td>\n",
       "      <td>124</td>\n",
       "      <td>5562</td>\n",
       "      <td>6.5</td>\n",
       "      <td>2015</td>\n",
       "      <td>1.379999e+08</td>\n",
       "      <td>1.392446e+09</td>\n",
       "      <td>1.254446e+09</td>\n",
       "      <td>Chris Pratt</td>\n",
       "      <td>Action</td>\n",
       "      <td>Colin Trevorrow</td>\n",
       "    </tr>\n",
       "    <tr>\n",
       "      <th>1</th>\n",
       "      <td>28.419936</td>\n",
       "      <td>Mad Max: Fury Road</td>\n",
       "      <td>120</td>\n",
       "      <td>6185</td>\n",
       "      <td>7.1</td>\n",
       "      <td>2015</td>\n",
       "      <td>1.379999e+08</td>\n",
       "      <td>3.481613e+08</td>\n",
       "      <td>2.101614e+08</td>\n",
       "      <td>Tom Hardy</td>\n",
       "      <td>Action</td>\n",
       "      <td>George Miller</td>\n",
       "    </tr>\n",
       "    <tr>\n",
       "      <th>2</th>\n",
       "      <td>13.112507</td>\n",
       "      <td>Insurgent</td>\n",
       "      <td>119</td>\n",
       "      <td>2480</td>\n",
       "      <td>6.3</td>\n",
       "      <td>2015</td>\n",
       "      <td>1.012000e+08</td>\n",
       "      <td>2.716190e+08</td>\n",
       "      <td>1.704191e+08</td>\n",
       "      <td>Shailene Woodley</td>\n",
       "      <td>Adventure</td>\n",
       "      <td>Robert Schwentke</td>\n",
       "    </tr>\n",
       "    <tr>\n",
       "      <th>3</th>\n",
       "      <td>11.173104</td>\n",
       "      <td>Star Wars: The Force Awakens</td>\n",
       "      <td>136</td>\n",
       "      <td>5292</td>\n",
       "      <td>7.5</td>\n",
       "      <td>2015</td>\n",
       "      <td>1.839999e+08</td>\n",
       "      <td>1.902723e+09</td>\n",
       "      <td>1.718723e+09</td>\n",
       "      <td>Harrison Ford</td>\n",
       "      <td>Action</td>\n",
       "      <td>J.J. Abrams</td>\n",
       "    </tr>\n",
       "    <tr>\n",
       "      <th>4</th>\n",
       "      <td>9.335014</td>\n",
       "      <td>Furious 7</td>\n",
       "      <td>137</td>\n",
       "      <td>2947</td>\n",
       "      <td>7.3</td>\n",
       "      <td>2015</td>\n",
       "      <td>1.747999e+08</td>\n",
       "      <td>1.385749e+09</td>\n",
       "      <td>1.210949e+09</td>\n",
       "      <td>Vin Diesel</td>\n",
       "      <td>Action</td>\n",
       "      <td>James Wan</td>\n",
       "    </tr>\n",
       "  </tbody>\n",
       "</table>\n",
       "</div>"
      ],
      "text/plain": [
       "   popularity                original_title  runtime  vote_count  \\\n",
       "0   32.985763                Jurassic World      124        5562   \n",
       "1   28.419936            Mad Max: Fury Road      120        6185   \n",
       "2   13.112507                     Insurgent      119        2480   \n",
       "3   11.173104  Star Wars: The Force Awakens      136        5292   \n",
       "4    9.335014                     Furious 7      137        2947   \n",
       "\n",
       "   vote_average  release_year    budget_adj   revenue_adj        profit  \\\n",
       "0           6.5          2015  1.379999e+08  1.392446e+09  1.254446e+09   \n",
       "1           7.1          2015  1.379999e+08  3.481613e+08  2.101614e+08   \n",
       "2           6.3          2015  1.012000e+08  2.716190e+08  1.704191e+08   \n",
       "3           7.5          2015  1.839999e+08  1.902723e+09  1.718723e+09   \n",
       "4           7.3          2015  1.747999e+08  1.385749e+09  1.210949e+09   \n",
       "\n",
       "         lead_actor main_genre     lead_director  \n",
       "0       Chris Pratt     Action   Colin Trevorrow  \n",
       "1         Tom Hardy     Action     George Miller  \n",
       "2  Shailene Woodley  Adventure  Robert Schwentke  \n",
       "3     Harrison Ford     Action       J.J. Abrams  \n",
       "4        Vin Diesel     Action         James Wan  "
      ]
     },
     "execution_count": 24,
     "metadata": {},
     "output_type": "execute_result"
    }
   ],
   "source": [
    "#let us view our new data ready for analysis\n",
    "movies_df.head()"
   ]
  },
  {
   "cell_type": "code",
   "execution_count": 25,
   "metadata": {},
   "outputs": [
    {
     "data": {
      "text/plain": [
       "(3848, 12)"
      ]
     },
     "execution_count": 25,
     "metadata": {},
     "output_type": "execute_result"
    }
   ],
   "source": [
    "#Shape of our data\n",
    "movies_df.shape"
   ]
  },
  {
   "cell_type": "markdown",
   "metadata": {},
   "source": [
    "Our cleaned data consist of 3848 rows and 12 columns"
   ]
  },
  {
   "cell_type": "markdown",
   "metadata": {},
   "source": [
    "<a id='eda'></a>\n",
    "## Exploratory Data Analysis\n",
    "Exploratory Data Analysis helps us to get valuable insights into our data and answer questions about our data.\n",
    "\n",
    "We will do this by;\n",
    "\n",
    "    Getting the descriptive statistics of the data\n",
    "    Explore relationship between columns using charts and plots.\n",
    "    Note down some interesting insights from the exploratory analysis"
   ]
  },
  {
   "cell_type": "code",
   "execution_count": 26,
   "metadata": {
    "scrolled": false
   },
   "outputs": [
    {
     "data": {
      "text/html": [
       "<div>\n",
       "<style scoped>\n",
       "    .dataframe tbody tr th:only-of-type {\n",
       "        vertical-align: middle;\n",
       "    }\n",
       "\n",
       "    .dataframe tbody tr th {\n",
       "        vertical-align: top;\n",
       "    }\n",
       "\n",
       "    .dataframe thead th {\n",
       "        text-align: right;\n",
       "    }\n",
       "</style>\n",
       "<table border=\"1\" class=\"dataframe\">\n",
       "  <thead>\n",
       "    <tr style=\"text-align: right;\">\n",
       "      <th></th>\n",
       "      <th>popularity</th>\n",
       "      <th>runtime</th>\n",
       "      <th>vote_count</th>\n",
       "      <th>vote_average</th>\n",
       "      <th>release_year</th>\n",
       "      <th>budget_adj</th>\n",
       "      <th>revenue_adj</th>\n",
       "      <th>profit</th>\n",
       "    </tr>\n",
       "  </thead>\n",
       "  <tbody>\n",
       "    <tr>\n",
       "      <th>count</th>\n",
       "      <td>3848.000000</td>\n",
       "      <td>3848.000000</td>\n",
       "      <td>3848.000000</td>\n",
       "      <td>3848.000000</td>\n",
       "      <td>3848.000000</td>\n",
       "      <td>3.848000e+03</td>\n",
       "      <td>3.848000e+03</td>\n",
       "      <td>3.848000e+03</td>\n",
       "    </tr>\n",
       "    <tr>\n",
       "      <th>mean</th>\n",
       "      <td>1.193108</td>\n",
       "      <td>109.222453</td>\n",
       "      <td>528.510135</td>\n",
       "      <td>6.168919</td>\n",
       "      <td>2001.255717</td>\n",
       "      <td>4.430511e+07</td>\n",
       "      <td>1.372670e+08</td>\n",
       "      <td>9.296187e+07</td>\n",
       "    </tr>\n",
       "    <tr>\n",
       "      <th>std</th>\n",
       "      <td>1.475774</td>\n",
       "      <td>19.914319</td>\n",
       "      <td>880.414950</td>\n",
       "      <td>0.794677</td>\n",
       "      <td>11.286016</td>\n",
       "      <td>4.481373e+07</td>\n",
       "      <td>2.162185e+08</td>\n",
       "      <td>1.941911e+08</td>\n",
       "    </tr>\n",
       "    <tr>\n",
       "      <th>min</th>\n",
       "      <td>0.001117</td>\n",
       "      <td>15.000000</td>\n",
       "      <td>10.000000</td>\n",
       "      <td>2.200000</td>\n",
       "      <td>1960.000000</td>\n",
       "      <td>1.309053e+00</td>\n",
       "      <td>2.370705e+00</td>\n",
       "      <td>-4.139124e+08</td>\n",
       "    </tr>\n",
       "    <tr>\n",
       "      <th>25%</th>\n",
       "      <td>0.463291</td>\n",
       "      <td>95.750000</td>\n",
       "      <td>71.000000</td>\n",
       "      <td>5.700000</td>\n",
       "      <td>1995.000000</td>\n",
       "      <td>1.318409e+07</td>\n",
       "      <td>1.843827e+07</td>\n",
       "      <td>-1.503876e+06</td>\n",
       "    </tr>\n",
       "    <tr>\n",
       "      <th>50%</th>\n",
       "      <td>0.799015</td>\n",
       "      <td>106.000000</td>\n",
       "      <td>205.000000</td>\n",
       "      <td>6.200000</td>\n",
       "      <td>2004.000000</td>\n",
       "      <td>3.007926e+07</td>\n",
       "      <td>6.182197e+07</td>\n",
       "      <td>2.746787e+07</td>\n",
       "    </tr>\n",
       "    <tr>\n",
       "      <th>75%</th>\n",
       "      <td>1.374400</td>\n",
       "      <td>119.000000</td>\n",
       "      <td>581.250000</td>\n",
       "      <td>6.700000</td>\n",
       "      <td>2010.000000</td>\n",
       "      <td>6.076720e+07</td>\n",
       "      <td>1.635528e+08</td>\n",
       "      <td>1.075787e+08</td>\n",
       "    </tr>\n",
       "    <tr>\n",
       "      <th>max</th>\n",
       "      <td>32.985763</td>\n",
       "      <td>338.000000</td>\n",
       "      <td>9767.000000</td>\n",
       "      <td>8.400000</td>\n",
       "      <td>2015.000000</td>\n",
       "      <td>4.250000e+08</td>\n",
       "      <td>2.827124e+09</td>\n",
       "      <td>2.750137e+09</td>\n",
       "    </tr>\n",
       "  </tbody>\n",
       "</table>\n",
       "</div>"
      ],
      "text/plain": [
       "        popularity      runtime   vote_count  vote_average  release_year  \\\n",
       "count  3848.000000  3848.000000  3848.000000   3848.000000   3848.000000   \n",
       "mean      1.193108   109.222453   528.510135      6.168919   2001.255717   \n",
       "std       1.475774    19.914319   880.414950      0.794677     11.286016   \n",
       "min       0.001117    15.000000    10.000000      2.200000   1960.000000   \n",
       "25%       0.463291    95.750000    71.000000      5.700000   1995.000000   \n",
       "50%       0.799015   106.000000   205.000000      6.200000   2004.000000   \n",
       "75%       1.374400   119.000000   581.250000      6.700000   2010.000000   \n",
       "max      32.985763   338.000000  9767.000000      8.400000   2015.000000   \n",
       "\n",
       "         budget_adj   revenue_adj        profit  \n",
       "count  3.848000e+03  3.848000e+03  3.848000e+03  \n",
       "mean   4.430511e+07  1.372670e+08  9.296187e+07  \n",
       "std    4.481373e+07  2.162185e+08  1.941911e+08  \n",
       "min    1.309053e+00  2.370705e+00 -4.139124e+08  \n",
       "25%    1.318409e+07  1.843827e+07 -1.503876e+06  \n",
       "50%    3.007926e+07  6.182197e+07  2.746787e+07  \n",
       "75%    6.076720e+07  1.635528e+08  1.075787e+08  \n",
       "max    4.250000e+08  2.827124e+09  2.750137e+09  "
      ]
     },
     "execution_count": 26,
     "metadata": {},
     "output_type": "execute_result"
    }
   ],
   "source": [
    "#Get Descriptive statistics of the data\n",
    "movies_df.describe()"
   ]
  },
  {
   "cell_type": "markdown",
   "metadata": {},
   "source": [
    "### Asking and Answering Questions"
   ]
  },
  {
   "cell_type": "markdown",
   "metadata": {},
   "source": [
    "##### What is the number of observation for the various movie Genres in our data?\n",
    "The number of observations will provide us with information on the number of our data points(movies) in each category of movie genres"
   ]
  },
  {
   "cell_type": "code",
   "execution_count": 27,
   "metadata": {},
   "outputs": [],
   "source": [
    "#Define a function to plot categorical values\n",
    "def plot_cat(var, l=12,b=5):\n",
    "    plt.figure(figsize = (l, b))\n",
    "    sns.countplot(movies_df[var], order = movies_df[var].value_counts().index)\n",
    "    plt.xticks(rotation=75)"
   ]
  },
  {
   "cell_type": "code",
   "execution_count": 28,
   "metadata": {
    "scrolled": false
   },
   "outputs": [
    {
     "data": {
      "image/png": "[encoded data removed]",
      "text/plain": [
       "<Figure size 864x360 with 1 Axes>"
      ]
     },
     "metadata": {
      "needs_background": "light"
     },
     "output_type": "display_data"
    }
   ],
   "source": [
    "#call function to plot main_genre category\n",
    "plot_cat('main_genre')"
   ]
  },
  {
   "cell_type": "markdown",
   "metadata": {},
   "source": [
    "Most of our data points(movies) falls under the `Drama`, `Comedy`, and `Action` genres. `History`, `Western` and `TV Movie` genres have the lowest movies."
   ]
  },
  {
   "cell_type": "markdown",
   "metadata": {},
   "source": [
    "##### What year was the largest number of movies released?"
   ]
  },
  {
   "cell_type": "code",
   "execution_count": 29,
   "metadata": {
    "scrolled": false
   },
   "outputs": [
    {
     "data": {
      "image/png": "[encoded data removed]",
      "text/plain": [
       "<Figure size 864x360 with 1 Axes>"
      ]
     },
     "metadata": {
      "needs_background": "light"
     },
     "output_type": "display_data"
    }
   ],
   "source": [
    "#call function to plot release year of movies\n",
    "plot_cat('release_year')"
   ]
  },
  {
   "cell_type": "markdown",
   "metadata": {},
   "source": [
    "The year `2011` saw the largest release of movies more than any other year between `1960` and `2015`. A total of `198` movies were released that year."
   ]
  },
  {
   "cell_type": "markdown",
   "metadata": {},
   "source": [
    "#####  What is the Popularity distibution of movies?"
   ]
  },
  {
   "cell_type": "code",
   "execution_count": 30,
   "metadata": {
    "scrolled": true
   },
   "outputs": [
    {
     "data": {
      "image/png": "[encoded data removed]",
      "text/plain": [
       "<Figure size 432x288 with 1 Axes>"
      ]
     },
     "metadata": {
      "needs_background": "light"
     },
     "output_type": "display_data"
    }
   ],
   "source": [
    "#plot histogram to show distribution of popularity of movies\n",
    "sns.histplot(movies_df['popularity'], bins = 200);\n"
   ]
  },
  {
   "cell_type": "markdown",
   "metadata": {},
   "source": [
    "The popularity distribution of the movies is skewed to the right. a large number of the movies have a popularity within the range of 0 and 1.3"
   ]
  },
  {
   "cell_type": "markdown",
   "metadata": {},
   "source": [
    "#####  What is the Average Vote distribution of Movies?"
   ]
  },
  {
   "cell_type": "code",
   "execution_count": 31,
   "metadata": {},
   "outputs": [
    {
     "data": {
      "image/png": "[encoded data removed]",
      "text/plain": [
       "<Figure size 432x288 with 1 Axes>"
      ]
     },
     "metadata": {
      "needs_background": "light"
     },
     "output_type": "display_data"
    }
   ],
   "source": [
    "#plot histogram to to show the distribution of the average vote\n",
    "sns.histplot(movies_df['vote_average'], bins = 20);"
   ]
  },
  {
   "cell_type": "markdown",
   "metadata": {},
   "source": [
    "The distribution of the vote average appears to be a normal distribution. most of the movies fall between a vote average of 5 and 7"
   ]
  },
  {
   "cell_type": "markdown",
   "metadata": {},
   "source": [
    "##### Q2. What are the highest grossing movies?"
   ]
  },
  {
   "cell_type": "code",
   "execution_count": 32,
   "metadata": {},
   "outputs": [],
   "source": [
    "#Get the top 10 grossing movies\n",
    "top_grossing_movies = movies_df.sort_values(by=['revenue_adj'], ascending=False).head(10)"
   ]
  },
  {
   "cell_type": "code",
   "execution_count": 33,
   "metadata": {
    "scrolled": false
   },
   "outputs": [
    {
     "data": {
      "image/png": "[encoded data removed]",
      "text/plain": [
       "<Figure size 432x288 with 1 Axes>"
      ]
     },
     "metadata": {
      "needs_background": "light"
     },
     "output_type": "display_data"
    }
   ],
   "source": [
    "sns.barplot(x=\"original_title\", y=\"revenue_adj\", hue=\"main_genre\", data= top_grossing_movies)\n",
    "plt.xticks(rotation=90)\n",
    "plt.title('Highest Grossing Movies');"
   ]
  },
  {
   "cell_type": "markdown",
   "metadata": {},
   "source": [
    "The top 3 grossing movies are `Avatar`(Action), `Star Wars`(Adventure), and `Titanic`(Drama) within the year (1960-2015) in consideration"
   ]
  },
  {
   "cell_type": "markdown",
   "metadata": {},
   "source": [
    "##### Q What are the  most popular movies?"
   ]
  },
  {
   "cell_type": "code",
   "execution_count": 34,
   "metadata": {},
   "outputs": [],
   "source": [
    "#Get most popular movies\n",
    "top_most_popular_movies = movies_df.sort_values(by=['popularity'], ascending=False).head(10)"
   ]
  },
  {
   "cell_type": "code",
   "execution_count": 35,
   "metadata": {},
   "outputs": [
    {
     "data": {
      "image/png": "[encoded data removed]",
      "text/plain": [
       "<Figure size 432x288 with 1 Axes>"
      ]
     },
     "metadata": {
      "needs_background": "light"
     },
     "output_type": "display_data"
    }
   ],
   "source": [
    "sns.barplot(x=\"original_title\", y=\"popularity\", hue=\"main_genre\", data= top_most_popular_movies)\n",
    "plt.xticks(rotation=90)\n",
    "plt.title('Most Popular Movies');"
   ]
  },
  {
   "cell_type": "markdown",
   "metadata": {},
   "source": [
    "The top 3 most popular movies over the years are `Jurassic World` (`Action`) released in 2015, `Mad Max: Fury Road` (`Action`) released in 2015, and `Intersteller`(`Adventure`) released in 2014."
   ]
  },
  {
   "cell_type": "markdown",
   "metadata": {},
   "source": [
    "##### What Genres of movies require higher production budget?"
   ]
  },
  {
   "cell_type": "code",
   "execution_count": 36,
   "metadata": {},
   "outputs": [
    {
     "data": {
      "image/png": "[encoded data removed]",
      "text/plain": [
       "<Figure size 432x288 with 1 Axes>"
      ]
     },
     "metadata": {
      "needs_background": "light"
     },
     "output_type": "display_data"
    }
   ],
   "source": [
    "#create barplot to show movie genres and budget\n",
    "sns.barplot(x=\"main_genre\", y=\"budget_adj\", data= movies_df)\n",
    "plt.xticks(rotation=90)\n",
    "plt.title('Budget of Movie Genres');"
   ]
  },
  {
   "cell_type": "markdown",
   "metadata": {},
   "source": [
    "From the above plot, more money is spent on producing `Adventure`, `Animation` and `Family` Genres movies than other genres of movies."
   ]
  },
  {
   "cell_type": "markdown",
   "metadata": {},
   "source": [
    "##### Q What Genres of movies generates highest revenue?"
   ]
  },
  {
   "cell_type": "code",
   "execution_count": 37,
   "metadata": {},
   "outputs": [
    {
     "data": {
      "image/png": "[encoded data removed]",
      "text/plain": [
       "<Figure size 432x288 with 1 Axes>"
      ]
     },
     "metadata": {
      "needs_background": "light"
     },
     "output_type": "display_data"
    }
   ],
   "source": [
    "#create barplot of movie genres and revenue\n",
    "sns.barplot(x=\"main_genre\", y=\"revenue_adj\", data= movies_df)\n",
    "plt.xticks(rotation=90)\n",
    "plt.title('Revenue of Movie Genres');"
   ]
  },
  {
   "cell_type": "markdown",
   "metadata": {},
   "source": [
    "From the above plot, `Adventure`, `Family`, and `Animation` movies yields more revenue than other genres of movies. this could be as a result of the high cost of producing such movies."
   ]
  },
  {
   "cell_type": "markdown",
   "metadata": {},
   "source": [
    "##### What Genres of movies are most popular?"
   ]
  },
  {
   "cell_type": "code",
   "execution_count": 38,
   "metadata": {},
   "outputs": [
    {
     "data": {
      "image/png": "[encoded data removed]",
      "text/plain": [
       "<Figure size 432x288 with 1 Axes>"
      ]
     },
     "metadata": {
      "needs_background": "light"
     },
     "output_type": "display_data"
    }
   ],
   "source": [
    "#create a barplot of movie genres and popularity\n",
    "sns.barplot(x=\"main_genre\", y=\"popularity\", data= movies_df)\n",
    "plt.xticks(rotation=90)\n",
    "plt.title('Genres Popularity');"
   ]
  },
  {
   "cell_type": "markdown",
   "metadata": {},
   "source": [
    "From the above plot, `adventure` and `science fiction` movies have been the most popular"
   ]
  },
  {
   "cell_type": "markdown",
   "metadata": {},
   "source": [
    "##### Q. Which genres of movies have been most profitable?"
   ]
  },
  {
   "cell_type": "code",
   "execution_count": 39,
   "metadata": {},
   "outputs": [],
   "source": [
    "#get most profitable movie genres\n",
    "genres_vs_profit = movies_df.groupby('main_genre')['profit'].mean().sort_values(ascending=False).head(10)"
   ]
  },
  {
   "cell_type": "code",
   "execution_count": 40,
   "metadata": {
    "scrolled": false
   },
   "outputs": [
    {
     "data": {
      "image/png": "[encoded data removed]",
      "text/plain": [
       "<Figure size 432x432 with 1 Axes>"
      ]
     },
     "metadata": {
      "needs_background": "light"
     },
     "output_type": "display_data"
    }
   ],
   "source": [
    "plt.figure(figsize=(6,6))\n",
    "plt.xticks(rotation=75)\n",
    "plt.title('Highest Profit yielding Genres')\n",
    "sns.barplot(x=genres_vs_profit.index, y=genres_vs_profit);"
   ]
  },
  {
   "cell_type": "markdown",
   "metadata": {},
   "source": [
    "Over the years, `Adventure`, `animation` and `family` genres have made higher profit than the other genres"
   ]
  },
  {
   "cell_type": "markdown",
   "metadata": {},
   "source": [
    "##### Q.  Which movie genres have the longest runtime?\n"
   ]
  },
  {
   "cell_type": "code",
   "execution_count": 41,
   "metadata": {},
   "outputs": [
    {
     "data": {
      "image/png": "[encoded data removed]",
      "text/plain": [
       "<Figure size 864x576 with 1 Axes>"
      ]
     },
     "metadata": {
      "needs_background": "light"
     },
     "output_type": "display_data"
    }
   ],
   "source": [
    "plt.figure(figsize=(12,8))\n",
    "plt.xticks(rotation=75)\n",
    "plt.title('Runtime')\n",
    "sns.boxplot(x='runtime', y= 'main_genre', data=movies_df);"
   ]
  },
  {
   "cell_type": "markdown",
   "metadata": {},
   "source": [
    "`War` and `history` movies have longer runtime than other genres of movies"
   ]
  },
  {
   "cell_type": "markdown",
   "metadata": {},
   "source": [
    "##### Q. Will the budget of a movie affect the revenue of the Movie?"
   ]
  },
  {
   "cell_type": "code",
   "execution_count": 42,
   "metadata": {},
   "outputs": [
    {
     "data": {
      "image/png": "[encoded data removed]",
      "text/plain": [
       "<Figure size 432x288 with 1 Axes>"
      ]
     },
     "metadata": {
      "needs_background": "light"
     },
     "output_type": "display_data"
    }
   ],
   "source": [
    "sns.regplot(data=movies_df,\n",
    "x=\"revenue_adj\",\n",
    "y=\"budget_adj\")\n",
    "plt.title('Budget_vs_Revenue');"
   ]
  },
  {
   "cell_type": "markdown",
   "metadata": {},
   "source": [
    "From the regression plot above, there seems to be a positive correlation between a movie budget and its revenue. This may imply that a movie with a high production budget may yield a high revenue after it has been released. we may need to carry out further analysis to verify this."
   ]
  },
  {
   "cell_type": "markdown",
   "metadata": {},
   "source": [
    "##### Q Will the popularity of a movie affect the revenue of the Movie?"
   ]
  },
  {
   "cell_type": "code",
   "execution_count": 43,
   "metadata": {
    "scrolled": false
   },
   "outputs": [
    {
     "data": {
      "image/png": "[encoded data removed]",
      "text/plain": [
       "<Figure size 432x288 with 1 Axes>"
      ]
     },
     "metadata": {
      "needs_background": "light"
     },
     "output_type": "display_data"
    }
   ],
   "source": [
    "sns.regplot(x='popularity', y='revenue_adj', data=movies_df)\n",
    "plt.title('Popularity_vs_Revenue');"
   ]
  },
  {
   "cell_type": "markdown",
   "metadata": {
    "scrolled": true
   },
   "source": [
    "There seems to be a  positive correlation between the popularity of a movie and its revenue. further analysis could  be carried our to verify this."
   ]
  },
  {
   "cell_type": "markdown",
   "metadata": {},
   "source": [
    "<a id='conclusions'></a>\n",
    "## Conclusions\n",
    "- Most of our data points(movies) falls under the `Drama`, `Comedy`, and `Action` genres. `History`, `Western` and `TV Movie` genres have the lowest movies.\n",
    "- The year `2011` saw the largest release of movies more than any other year between `1960` and `2015`. A total of `198` movies were released that year.\n",
    "- The top 3 grossing movies are Avatar(Action), Star Wars(Adventure), and Titanic(Drama) within the year (1960-2015) in consideration\n",
    "- The top 3 most popular movies over the years are `Jurassic World` (`Action`) released in 2015, `Mad Max: Fury Road` (`Action`) released in 2015, and `Intersteller`(`Adventure`) released in 2014.\n",
    "- More money is spent on producing `Adventure`, `Animation` and `Family` Genres movies than other genres of movies.\n",
    "- `Adventure`, `Family`, and `Animation` movies yields more revenue than other genres of movies. this could be as a result of the high cost of producing such movies.\n",
    "- `Adventure` and `science fiction` movies have been the most popular.\n",
    "- `Adventure`, `animation` and `family` genres have made higher profit than the other genres.\n",
    "- There seems to be a positive correlation between a movie budget and its revenue. This may imply that a movie with a high production budget may yield a high revenue after it has been released. we may need to carry out further analysis to verify this.\n",
    "- There seems to be a positive correlation between the popularity of a movie and its revenue. further analysis could be carried our to verify this.\n",
    "\n",
    "\n",
    "#### Limitation\n",
    "\n",
    "-The dataset had many missing values for the the `budget_adj` and `revenue_adJ`. The raw Data set had over 10,000 rows. after wrangling and cleaning the data, we only had about 3848 rows which is not a good representation of the population."
   ]
  },
  {
   "cell_type": "code",
   "execution_count": 44,
   "metadata": {},
   "outputs": [],
   "source": [
    "from subprocess import call\n",
    "call(['python', '-m', 'nbconvert', 'Investigate_a_Dataset.ipynb'])"
   ]
  }
 ],
 "metadata": {
  "kernelspec": {
   "display_name": "Python 3",
   "language": "python",
   "name": "python3"
  },
  "language_info": {
   "codemirror_mode": {
    "name": "ipython",
    "version": 3
   },
   "file_extension": ".py",
   "mimetype": "text/x-python",
   "name": "python",
   "nbconvert_exporter": "python",
   "pygments_lexer": "ipython3",
   "version": "3.6.3"
  }
 },
 "nbformat": 4,
 "nbformat_minor": 2
}
